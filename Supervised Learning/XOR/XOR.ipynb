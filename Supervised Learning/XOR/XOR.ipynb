{
 "cells": [
  {
   "cell_type": "code",
   "execution_count": 75,
   "metadata": {
    "collapsed": false
   },
   "outputs": [
    {
     "name": "stdout",
     "output_type": "stream",
     "text": [
      "[[0 0]\n",
      " [0 1]\n",
      " [1 0]\n",
      " [1 1]] [0 1 1 0]\n"
     ]
    }
   ],
   "source": [
    "import pandas as pd\n",
    "import numpy as np\n",
    "data = pd.read_csv('XOR.csv').as_matrix()\n",
    "X,y = data[:,0:2], data[:,2]\n",
    "print(X,y)"
   ]
  },
  {
   "cell_type": "code",
   "execution_count": 81,
   "metadata": {
    "collapsed": false
   },
   "outputs": [],
   "source": [
    "class NeuralNetwork(object): # TODO: Generalize for multiple layers (pass in a list of #nodes/layer)\n",
    "    def __init__(self, input_nodes, hidden_nodes, output_nodes, learning_rate, weights_i_to_h=None, weights_h_to_o=None):\n",
    "        self.input_nodes = input_nodes\n",
    "        self.hidden_nodes = hidden_nodes\n",
    "        self.output_nodes = output_nodes\n",
    "        self.weights_input_to_hidden = np.random.randn(self.hidden_nodes, self.input_nodes + 1) #3x3\n",
    "        self.weights_hidden_to_output = np.random.randn(self.output_nodes, self.hidden_nodes + 1) # 1x4\n",
    "        if weights_i_to_h is not None and weights_h_to_o is not None:\n",
    "            self.weights_input_to_hidden = weights_i_to_h\n",
    "            self.weights_hidden_to_output = weights_h_to_o\n",
    "        self.lr = learning_rate\n",
    "        self.activation_function = lambda x: 1 / (1 + np.exp(-x)) \n",
    "\n",
    "    def forward_propagation(self, x):\n",
    "        x = np.array(x)\n",
    "        hidden_inputs = np.dot(self.weights_input_to_hidden, np.append([1],x))\n",
    "        hidden_outputs = self.activation_function(hidden_inputs)\n",
    "        final_inputs = np.dot(self.weights_hidden_to_output, np.append([1],hidden_outputs))\n",
    "        final_outputs = self.activation_function(final_inputs)\n",
    "        return final_outputs        \n",
    "        \n",
    "    def back_propagation(self, x, y):\n",
    "        # Forward propagation\n",
    "        x = np.array(x) # 2x1\n",
    "        hidden_inputs = np.dot(self.weights_input_to_hidden, np.append([1],x)) # (3x3)(3x1) = 3x1\n",
    "        hidden_outputs = self.activation_function(hidden_inputs) # 3x1\n",
    "        final_inputs = np.dot(self.weights_hidden_to_output, np.append([1],hidden_outputs)) # (1x4)(4x1) = 1x1\n",
    "        final_outputs = self.activation_function(final_inputs) # 1x1        \n",
    "        # Back propagation (Errors) - uses final_outputs, hidden_outputs\n",
    "        output_errors = final_outputs - y # 1x1     \n",
    "        hidden_errors = np.dot(self.weights_hidden_to_output[:,1:].T, output_errors) * hidden_outputs * (1 - hidden_outputs) # (4x1)(1x1) + (4x1) + (4x1) = (4x1)        \n",
    "        # Back propagation (Update weights) - uses output_errors, hidden_outputs, hidden_errors, x\n",
    "        delta_weights_hidden_to_output = np.outer(output_errors, np.append([1],hidden_outputs)) # (1x1)(4x1)T = (1x4) \n",
    "        delta_weights_input_to_hidden = np.outer(hidden_errors, np.append([1],x)) # (3x1)(3x1)T = (3x3)               \n",
    "        return delta_weights_input_to_hidden, delta_weights_hidden_to_output\n",
    "        \n",
    "    def fit(self, X, y, epochs=10):\n",
    "        for e in range(epochs):\n",
    "            delta_weights_input_to_hidden = np.zeros((self.hidden_nodes, self.input_nodes + 1))\n",
    "            delta_weights_hidden_to_output = np.zeros((self.output_nodes, self.hidden_nodes + 1))\n",
    "            for i in range(X.shape[0]):   \n",
    "                d_w_i_to_h, d_w_h_to_o = self.back_propagation(X[i], y[i])\n",
    "                delta_weights_input_to_hidden += d_w_i_to_h\n",
    "                delta_weights_hidden_to_output += d_w_h_to_o\n",
    "            self.weights_input_to_hidden += - self.lr * (delta_weights_input_to_hidden / X.shape[0])\n",
    "            self.weights_hidden_to_output += - self.lr * (delta_weights_hidden_to_output / X.shape[0])    \n",
    "            \n",
    "    def predict(self, X):\n",
    "        res = []\n",
    "        for x in X:\n",
    "            res.append(self.forward_propagation(x))\n",
    "        return np.array(res, ndmin=2)\n",
    "            "
   ]
  },
  {
   "cell_type": "code",
   "execution_count": 82,
   "metadata": {
    "collapsed": false
   },
   "outputs": [
    {
     "name": "stdout",
     "output_type": "stream",
     "text": [
      "[[ 0.]\n",
      " [ 1.]\n",
      " [ 1.]\n",
      " [ 0.]]\n"
     ]
    }
   ],
   "source": [
    "# w_i_to_h = np.array([[-30, 20, 20],[20, -30, -30]])\n",
    "# w_h_to_o = np.array([[-20, 30, 30]])\n",
    "# network = NeuralNetwork(2, 2, 1, 0.1, weights_i_to_h=w_i_to_h, weights_h_to_o=w_h_to_o)\n",
    "\n",
    "network = NeuralNetwork(2, 3, 1, 0.1)\n",
    "network.fit(X, y, epochs=10000)\n",
    "print(np.round(network.predict([[0,0],[0,1],[1,0],[1,1]])))"
   ]
  },
  {
   "cell_type": "code",
   "execution_count": 68,
   "metadata": {
    "collapsed": false
   },
   "outputs": [
    {
     "data": {
      "text/plain": [
       "array([[1],\n",
       "       [2],\n",
       "       [3]])"
      ]
     },
     "execution_count": 68,
     "metadata": {},
     "output_type": "execute_result"
    }
   ],
   "source": [
    "a = [1,2,3]\n",
    "b = np.array(a, ndmin=2).T\n",
    "b"
   ]
  },
  {
   "cell_type": "code",
   "execution_count": 47,
   "metadata": {
    "collapsed": false
   },
   "outputs": [
    {
     "data": {
      "text/plain": [
       "array([2, 4, 6])"
      ]
     },
     "execution_count": 47,
     "metadata": {},
     "output_type": "execute_result"
    }
   ],
   "source": [
    "np.array([1,2,3]) * [2,2,2]"
   ]
  },
  {
   "cell_type": "code",
   "execution_count": 51,
   "metadata": {
    "collapsed": false
   },
   "outputs": [
    {
     "data": {
      "text/plain": [
       "array([3, 3, 3])"
      ]
     },
     "execution_count": 51,
     "metadata": {},
     "output_type": "execute_result"
    }
   ],
   "source": [
    "[1] + np.array([2,2,2])"
   ]
  },
  {
   "cell_type": "code",
   "execution_count": 53,
   "metadata": {
    "collapsed": false
   },
   "outputs": [
    {
     "data": {
      "text/plain": [
       "array([2, 1, 1])"
      ]
     },
     "execution_count": 53,
     "metadata": {},
     "output_type": "execute_result"
    }
   ],
   "source": [
    "a = [2]\n",
    "b = np.array([1,1])\n",
    "np.append(a,b)"
   ]
  },
  {
   "cell_type": "code",
   "execution_count": 4,
   "metadata": {
    "collapsed": false
   },
   "outputs": [
    {
     "data": {
      "text/plain": [
       "array([[ 2,  3,  4,  5,  6],\n",
       "       [ 4,  6,  8, 10, 12],\n",
       "       [ 6,  9, 12, 15, 18]])"
      ]
     },
     "execution_count": 4,
     "metadata": {},
     "output_type": "execute_result"
    }
   ],
   "source": [
    "a = np.array([1,2,3])\n",
    "b = np.array([2,3,4,5,6])\n",
    "c = np.outer(a,b)\n",
    "c"
   ]
  },
  {
   "cell_type": "code",
   "execution_count": 6,
   "metadata": {
    "collapsed": false
   },
   "outputs": [
    {
     "data": {
      "text/plain": [
       "array([[ 3,  4,  5,  6],\n",
       "       [ 6,  8, 10, 12],\n",
       "       [ 9, 12, 15, 18]])"
      ]
     },
     "execution_count": 6,
     "metadata": {},
     "output_type": "execute_result"
    }
   ],
   "source": [
    "c[:,1:]"
   ]
  },
  {
   "cell_type": "code",
   "execution_count": null,
   "metadata": {
    "collapsed": true
   },
   "outputs": [],
   "source": []
  }
 ],
 "metadata": {
  "kernelspec": {
   "display_name": "Python 3",
   "language": "python",
   "name": "python3"
  },
  "language_info": {
   "codemirror_mode": {
    "name": "ipython",
    "version": 3
   },
   "file_extension": ".py",
   "mimetype": "text/x-python",
   "name": "python",
   "nbconvert_exporter": "python",
   "pygments_lexer": "ipython3",
   "version": "3.5.2"
  }
 },
 "nbformat": 4,
 "nbformat_minor": 2
}
